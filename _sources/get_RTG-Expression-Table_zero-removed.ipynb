{
  "cells": [
    {
      "cell_type": "markdown",
      "metadata": {},
      "source": [
        "# Analysis RTG gene expression\n",
        "\n",
        "## Reference\n",
        "- Single-cell RNA-seq reveals intrinsic and extrinsic regulatory heterogeneity in yeast responding to stress\n",
        "    - Article. https://doi.org/10.1371/journal.pbio.2004050  \n",
        "    - RNA sequencing data(GSA102475). https://www.ncbi.nlm.nih.gov/geo/query/acc.cgi?acc=GSE102475"
      ]
    },
    {
      "cell_type": "code",
      "execution_count": null,
      "metadata": {},
      "outputs": [],
      "source": [
        "# Retrieve table\n",
        "import pandas as pd\n",
        "import numbers\n",
        "df = pd.read_table(\"data/GSE102475_GASCH_NaCl-scRNAseq_NormData.txt\")"
      ]
    },
    {
      "cell_type": "code",
      "execution_count": null,
      "metadata": {},
      "outputs": [],
      "source": [
        "def get_key(df, value):\n",
        "    return [k for k,v in df.items() if value==v]"
      ]
    },
    {
      "cell_type": "markdown",
      "metadata": {},
      "source": [
        "## Check availibility of RTG Genes"
      ]
    },
    {
      "cell_type": "code",
      "execution_count": null,
      "metadata": {},
      "outputs": [],
      "source": [
        "# Gene names\n",
        "alias = {\n",
        "    \"RTG1\": \"YOL067C\",\n",
        "    \"RTG2\": \"YGL252C\",\n",
        "    \"RTG3\": \"YBL103C\",\n",
        "    \"BMH1\": \"YER177W\",\n",
        "    \"MKS1\": \"YNL076W\",\n",
        "    \"CIT2\": \"YCR005C\"\n",
        "}\n",
        "\n",
        "for k in alias.keys():\n",
        "    if alias[k] in list(df[\"gene\"]):\n",
        "        print(\"{} is measured\".format(k))\n",
        "    else:\n",
        "        print(\"{} not found\".format(k))"
      ]
    },
    {
      "cell_type": "markdown",
      "metadata": {
        "nteract": {
          "transient": {
            "deleting": false
          }
        }
      },
      "source": [
        "## Get RTG gene expression table "
      ]
    },
    {
      "cell_type": "code",
      "execution_count": null,
      "metadata": {},
      "outputs": [],
      "source": [
        "df_filt = df[df[\"gene\"].isin(alias.values())]\n",
        "# filtered zeros\n",
        "df_filt_zeroRemoved = df_filt\n",
        "for key in df_filt.keys():\n",
        "    col = df_filt[key]\n",
        "    if 0.00 in list(col):\n",
        "        del df_filt_zeroRemoved[key]\n",
        "        \n",
        "# a to columndd alias\n",
        "alias_ns = [ get_key(alias, ali)[0] for ali in df_filt_zeroRemoved[\"gene\"]]\n",
        "df_filt_zeroRemoved[\"gene_alias\"] = alias_ns\n",
        "df_filt_zeroRemoved"
      ]
    },
    {
      "cell_type": "code",
      "execution_count": null,
      "metadata": {},
      "outputs": [],
      "source": [
        "df_filt_zeroRemoved.to_csv(\"data/RTG-Expression-Table_GSE102475.csv\", index=False)"
      ]
    }
  ],
  "metadata": {
    "interpreter": {
      "hash": "acaa36ab424282bd7b7851483cf239e65e4ddd01e5d052227960ccf0a857abb8"
    },
    "kernel_info": {
      "name": "python37364bitsympyconda45abf14132e64f55a2b5804edde4e9fe"
    },
    "kernelspec": {
      "display_name": "Python 3.7.3 64-bit ('sympy': conda)",
      "language": "python",
      "name": "python3"
    },
    "language_info": {
      "codemirror_mode": {
        "name": "ipython",
        "version": 3
      },
      "file_extension": ".py",
      "mimetype": "text/x-python",
      "name": "python",
      "nbconvert_exporter": "python",
      "pygments_lexer": "ipython3",
      "version": "3.9.12"
    },
    "nteract": {
      "version": "0.21.0"
    }
  },
  "nbformat": 4,
  "nbformat_minor": 0
}
