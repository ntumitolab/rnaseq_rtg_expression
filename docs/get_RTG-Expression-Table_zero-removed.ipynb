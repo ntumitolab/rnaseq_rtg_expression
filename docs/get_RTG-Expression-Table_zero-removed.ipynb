{
  "cells": [
    {
      "cell_type": "markdown",
      "metadata": {},
      "source": [
        "# Analysis RTG gene expression\n",
        "\n",
        "## Reference\n",
        "- Single-cell RNA-seq reveals intrinsic and extrinsic regulatory heterogeneity in yeast responding to stress\n",
        "    - Article. https://doi.org/10.1371/journal.pbio.2004050  \n",
        "    - RNA sequencing data(GSA102475). https://www.ncbi.nlm.nih.gov/geo/query/acc.cgi?acc=GSE102475"
      ]
    },
    {
      "cell_type": "code",
      "execution_count": 52,
      "metadata": {},
      "outputs": [],
      "source": [
        "# Retrieve table\n",
        "import pandas as pd\n",
        "import numbers\n",
        "df = pd.read_table(\"data/GSE102475_GASCH_NaCl-scRNAseq_NormData.txt\")"
      ]
    },
    {
      "cell_type": "code",
      "execution_count": 53,
      "metadata": {},
      "outputs": [],
      "source": [
        "def get_key(df, value):\n",
        "    return [k for k,v in df.items() if value==v]"
      ]
    },
    {
      "cell_type": "markdown",
      "metadata": {},
      "source": [
        "## Check availibility of RTG Genes"
      ]
    },
    {
      "cell_type": "code",
      "execution_count": 45,
      "metadata": {},
      "outputs": [
        {
          "name": "stdout",
          "output_type": "stream",
          "text": [
            "RTG1 is measured\n",
            "RTG2 is measured\n",
            "RTG3 is measured\n",
            "BMH1 is measured\n",
            "MKS1 is measured\n",
            "CIT2 is measured\n"
          ]
        }
      ],
      "source": [
        "# Gene names\n",
        "alias = {\n",
        "    \"RTG1\": \"YOL067C\",\n",
        "    \"RTG2\": \"YGL252C\",\n",
        "    \"RTG3\": \"YBL103C\",\n",
        "    \"BMH1\": \"YER177W\",\n",
        "    \"MKS1\": \"YNL076W\",\n",
        "    \"CIT2\": \"YCR005C\"\n",
        "}\n",
        "\n",
        "for k in alias.keys():\n",
        "    if alias[k] in list(df[\"gene\"]):\n",
        "        print(\"{} is measured\".format(k))\n",
        "    else:\n",
        "        print(\"{} not found\".format(k))"
      ]
    },
    {
      "cell_type": "markdown",
      "metadata": {
        "nteract": {
          "transient": {
            "deleting": false
          }
        }
      },
      "source": [
        "## Get RTG gene expression table "
      ]
    },
    {
      "cell_type": "code",
      "execution_count": 78,
      "metadata": {},
      "outputs": [
        {
          "data": {
            "text/html": [
              "<div>\n",
              "<style scoped>\n",
              "    .dataframe tbody tr th:only-of-type {\n",
              "        vertical-align: middle;\n",
              "    }\n",
              "\n",
              "    .dataframe tbody tr th {\n",
              "        vertical-align: top;\n",
              "    }\n",
              "\n",
              "    .dataframe thead th {\n",
              "        text-align: right;\n",
              "    }\n",
              "</style>\n",
              "<table border=\"1\" class=\"dataframe\">\n",
              "  <thead>\n",
              "    <tr style=\"text-align: right;\">\n",
              "      <th></th>\n",
              "      <th>gene</th>\n",
              "      <th>BY4741_Stressed_1784042160_C50_BY17</th>\n",
              "      <th>BY4741_Stressed_1784042160_C50_BY42</th>\n",
              "      <th>BY4741_Stressed_1784042160_C50_BY44</th>\n",
              "      <th>BY4741_Stressed_1784042160_C50_BY56</th>\n",
              "      <th>BY4741_Stressed_1784042160_C50_BY57</th>\n",
              "      <th>BY4741_Unstressed_1784042189_BY34</th>\n",
              "      <th>BY4741_Unstressed_1784042189_BY43</th>\n",
              "      <th>BY4741_Unstressed_1784042189_BY45</th>\n",
              "    </tr>\n",
              "  </thead>\n",
              "  <tbody>\n",
              "    <tr>\n",
              "      <th>356</th>\n",
              "      <td>YBL103C</td>\n",
              "      <td>214.81</td>\n",
              "      <td>42.71</td>\n",
              "      <td>31.30</td>\n",
              "      <td>171.66</td>\n",
              "      <td>2.76</td>\n",
              "      <td>99.71</td>\n",
              "      <td>11.14</td>\n",
              "      <td>22.58</td>\n",
              "    </tr>\n",
              "    <tr>\n",
              "      <th>777</th>\n",
              "      <td>YCR005C</td>\n",
              "      <td>212.07</td>\n",
              "      <td>221.08</td>\n",
              "      <td>182.55</td>\n",
              "      <td>47.52</td>\n",
              "      <td>576.28</td>\n",
              "      <td>72.06</td>\n",
              "      <td>106.97</td>\n",
              "      <td>106.08</td>\n",
              "    </tr>\n",
              "    <tr>\n",
              "      <th>2051</th>\n",
              "      <td>YER177W</td>\n",
              "      <td>927.55</td>\n",
              "      <td>1215.70</td>\n",
              "      <td>1024.85</td>\n",
              "      <td>650.36</td>\n",
              "      <td>769.12</td>\n",
              "      <td>562.25</td>\n",
              "      <td>860.52</td>\n",
              "      <td>854.64</td>\n",
              "    </tr>\n",
              "    <tr>\n",
              "      <th>2470</th>\n",
              "      <td>YGL252C</td>\n",
              "      <td>133.87</td>\n",
              "      <td>109.25</td>\n",
              "      <td>90.20</td>\n",
              "      <td>34.09</td>\n",
              "      <td>14.54</td>\n",
              "      <td>285.91</td>\n",
              "      <td>91.69</td>\n",
              "      <td>96.87</td>\n",
              "    </tr>\n",
              "    <tr>\n",
              "      <th>5303</th>\n",
              "      <td>YNL076W</td>\n",
              "      <td>83.40</td>\n",
              "      <td>35.91</td>\n",
              "      <td>39.22</td>\n",
              "      <td>12.68</td>\n",
              "      <td>13.97</td>\n",
              "      <td>12.52</td>\n",
              "      <td>52.62</td>\n",
              "      <td>26.42</td>\n",
              "    </tr>\n",
              "    <tr>\n",
              "      <th>5733</th>\n",
              "      <td>YOL067C</td>\n",
              "      <td>3.59</td>\n",
              "      <td>9.57</td>\n",
              "      <td>9.98</td>\n",
              "      <td>99.30</td>\n",
              "      <td>1.24</td>\n",
              "      <td>5.15</td>\n",
              "      <td>7.20</td>\n",
              "      <td>5.18</td>\n",
              "    </tr>\n",
              "  </tbody>\n",
              "</table>\n",
              "</div>"
            ],
            "text/plain": [
              "         gene  BY4741_Stressed_1784042160_C50_BY17  \\\n",
              "356   YBL103C                               214.81   \n",
              "777   YCR005C                               212.07   \n",
              "2051  YER177W                               927.55   \n",
              "2470  YGL252C                               133.87   \n",
              "5303  YNL076W                                83.40   \n",
              "5733  YOL067C                                 3.59   \n",
              "\n",
              "      BY4741_Stressed_1784042160_C50_BY42  \\\n",
              "356                                 42.71   \n",
              "777                                221.08   \n",
              "2051                              1215.70   \n",
              "2470                               109.25   \n",
              "5303                                35.91   \n",
              "5733                                 9.57   \n",
              "\n",
              "      BY4741_Stressed_1784042160_C50_BY44  \\\n",
              "356                                 31.30   \n",
              "777                                182.55   \n",
              "2051                              1024.85   \n",
              "2470                                90.20   \n",
              "5303                                39.22   \n",
              "5733                                 9.98   \n",
              "\n",
              "      BY4741_Stressed_1784042160_C50_BY56  \\\n",
              "356                                171.66   \n",
              "777                                 47.52   \n",
              "2051                               650.36   \n",
              "2470                                34.09   \n",
              "5303                                12.68   \n",
              "5733                                99.30   \n",
              "\n",
              "      BY4741_Stressed_1784042160_C50_BY57  BY4741_Unstressed_1784042189_BY34  \\\n",
              "356                                  2.76                              99.71   \n",
              "777                                576.28                              72.06   \n",
              "2051                               769.12                             562.25   \n",
              "2470                                14.54                             285.91   \n",
              "5303                                13.97                              12.52   \n",
              "5733                                 1.24                               5.15   \n",
              "\n",
              "      BY4741_Unstressed_1784042189_BY43  BY4741_Unstressed_1784042189_BY45  \n",
              "356                               11.14                              22.58  \n",
              "777                              106.97                             106.08  \n",
              "2051                             860.52                             854.64  \n",
              "2470                              91.69                              96.87  \n",
              "5303                              52.62                              26.42  \n",
              "5733                               7.20                               5.18  "
            ]
          },
          "execution_count": 78,
          "metadata": {},
          "output_type": "execute_result"
        }
      ],
      "source": [
        "df_filt = df[df[\"gene\"].isin(alias.values())]\n",
        "# filtered zeros\n",
        "df_filt_zeroRemoved = df_filt\n",
        "for key in df_filt.keys():\n",
        "    col = df_filt[key]\n",
        "    if 0.00 in list(col):\n",
        "        del df_filt_zeroRemoved[key]\n",
        "        \n",
        "# a to columndd alias\n",
        "alias_ns = [ get_key(alias, ali)[0] for ali in df_filt_zeroRemoved[\"gene\"]]\n",
        "df_filt_zeroRemoved[\"gene_alias\"] = alias_ns\n",
        "df_filt_zeroRemoved"
      ]
    },
    {
      "cell_type": "code",
      "execution_count": null,
      "metadata": {},
      "outputs": [],
      "source": [
        "df_filt_zeroRemoved.to_csv(\"data/RTG-Expression-Table_GSE102475.csv\", index=False)"
      ]
    }
  ],
  "metadata": {
    "interpreter": {
      "hash": "acaa36ab424282bd7b7851483cf239e65e4ddd01e5d052227960ccf0a857abb8"
    },
    "kernel_info": {
      "name": "python37364bitsympyconda45abf14132e64f55a2b5804edde4e9fe"
    },
    "kernelspec": {
      "display_name": "Python 3.7.3 64-bit ('sympy': conda)",
      "language": "python",
      "name": "python3"
    },
    "language_info": {
      "codemirror_mode": {
        "name": "ipython",
        "version": 3
      },
      "file_extension": ".py",
      "mimetype": "text/x-python",
      "name": "python",
      "nbconvert_exporter": "python",
      "pygments_lexer": "ipython3",
      "version": "3.9.12"
    },
    "nteract": {
      "version": "0.21.0"
    }
  },
  "nbformat": 4,
  "nbformat_minor": 0
}
